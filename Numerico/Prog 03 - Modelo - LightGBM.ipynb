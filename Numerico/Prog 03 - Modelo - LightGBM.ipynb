{
 "cells": [
  {
   "cell_type": "markdown",
   "metadata": {},
   "source": [
    "# Modelo"
   ]
  },
  {
   "cell_type": "code",
   "execution_count": 1,
   "metadata": {},
   "outputs": [],
   "source": [
    "nomemodelo = 'Light GBM'"
   ]
  },
  {
   "cell_type": "markdown",
   "metadata": {},
   "source": [
    "## Caminhos"
   ]
  },
  {
   "cell_type": "code",
   "execution_count": 2,
   "metadata": {},
   "outputs": [],
   "source": [
    "import os\n",
    "\n",
    "#Folder Inicial\n",
    "path = os.getcwd()\n",
    "\n",
    "#Subpastas\n",
    "pathin = path + '\\\\Entrada\\\\'\n",
    "pathfixo = path + '\\\\Fixo\\\\'\n",
    "pathout = path + '\\\\Saida\\\\'\n",
    "pathparcial = path + '\\\\Parcial\\\\'\n",
    "pathaux = path + '\\\\Auxiliar\\\\'"
   ]
  },
  {
   "cell_type": "markdown",
   "metadata": {},
   "source": [
    "## Pacotes"
   ]
  },
  {
   "cell_type": "code",
   "execution_count": 3,
   "metadata": {},
   "outputs": [],
   "source": [
    "import dill\n",
    "import pickle\n",
    "import pandas as pd\n",
    "pd.set_option('max_colwidth', 3000)\n",
    "\n",
    "import numpy as np\n",
    "\n",
    "from time import gmtime, strftime\n",
    "\n",
    "from sklearn.linear_model import LogisticRegression\n",
    "from sklearn.svm import LinearSVC\n",
    "from sklearn.ensemble import RandomForestClassifier\n",
    "from sklearn.naive_bayes import MultinomialNB\n",
    "import lightgbm as lgb\n",
    "\n",
    "from sklearn.externals import joblib\n",
    "\n",
    "from sklearn.metrics import accuracy_score\n",
    "from sklearn.pipeline import Pipeline\n",
    "from sklearn.compose import ColumnTransformer\n",
    "from sklearn.feature_extraction.text import TfidfVectorizer\n",
    "from sklearn.model_selection import GridSearchCV, RepeatedStratifiedKFold\n",
    "from sklearn.utils import parallel_backend"
   ]
  },
  {
   "cell_type": "code",
   "execution_count": 4,
   "metadata": {},
   "outputs": [
    {
     "name": "stdout",
     "output_type": "stream",
     "text": [
      "0.20.3\n"
     ]
    }
   ],
   "source": [
    "import sklearn\n",
    "print(sklearn.__version__)"
   ]
  },
  {
   "cell_type": "markdown",
   "metadata": {},
   "source": [
    "## Lendo a Base"
   ]
  },
  {
   "cell_type": "code",
   "execution_count": 5,
   "metadata": {},
   "outputs": [
    {
     "name": "stdout",
     "output_type": "stream",
     "text": [
      "(750, 58)\n",
      "(250, 58)\n"
     ]
    }
   ],
   "source": [
    "file = 'Treino'\n",
    "treino = pd.read_pickle(pathparcial + 'Arquivo0 ' + file + '.pkl')\n",
    "\n",
    "file = 'Teste'\n",
    "teste = pd.read_pickle(pathparcial + 'Arquivo0 ' + file + '.pkl')\n",
    "\n",
    "print(treino.shape)\n",
    "print(teste.shape)"
   ]
  },
  {
   "cell_type": "code",
   "execution_count": 6,
   "metadata": {},
   "outputs": [
    {
     "name": "stdout",
     "output_type": "stream",
     "text": [
      "(750, 56)\n",
      "(250, 56)\n"
     ]
    }
   ],
   "source": [
    "#Excluindo variaveis que nao serao usadas no modelo\n",
    "y = 'default'\n",
    "id = 'id'\n",
    "\n",
    "Xtr = treino.drop([y, id], axis = 1)\n",
    "colunas = list(Xtr)\n",
    "\n",
    "with open(pathaux + 'Variaveis Modelo ' + nomemodelo + '.pickle', 'wb') as f:\n",
    "    dill.dump((colunas, y), f)\n",
    "\n",
    "Xte = teste[colunas]\n",
    "\n",
    "print(Xtr.shape)\n",
    "print(Xte.shape)"
   ]
  },
  {
   "cell_type": "markdown",
   "metadata": {},
   "source": [
    "## Modelos"
   ]
  },
  {
   "cell_type": "code",
   "execution_count": 7,
   "metadata": {
    "scrolled": true
   },
   "outputs": [],
   "source": [
    "nomemodelo = 'Light GBM'\n",
    "\n",
    "seed = 123\n",
    "\n",
    "parameters = {\n",
    "    'max_depth': [4, 5],\n",
    "    'bagging_fraction': [.7],\n",
    "    'min_data_leaf': [20],\n",
    "    'feature_fraction': [.7,],\n",
    "    'boosting_type': ['gbdt'],\n",
    "    'num_boost_round': [300, 500, 700],\n",
    "    'learning_rate': [.01],\n",
    "    'min_child_smaples': [20],\n",
    "    'class_weight': ['balanced', None],\n",
    "    'random_state': [seed]\n",
    "}\n",
    "\n",
    "estimator = lgb.LGBMClassifier(seed = seed)\n",
    "\n",
    "cv = RepeatedStratifiedKFold(n_splits = 3, n_repeats = 1, random_state = seed)\n",
    "\n",
    "gs = GridSearchCV(estimator = estimator, param_grid = parameters, cv = cv, scoring = 'f1_macro', \n",
    "                  n_jobs = 3, verbose = 1, refit = True)"
   ]
  },
  {
   "cell_type": "code",
   "execution_count": 8,
   "metadata": {},
   "outputs": [
    {
     "name": "stdout",
     "output_type": "stream",
     "text": [
      "2019-05-12 01:40:46\n",
      "Fitting 3 folds for each of 12 candidates, totalling 36 fits\n"
     ]
    },
    {
     "name": "stderr",
     "output_type": "stream",
     "text": [
      "[Parallel(n_jobs=3)]: Using backend MultiprocessingBackend with 3 concurrent workers.\n",
      "[Parallel(n_jobs=3)]: Done  36 out of  36 | elapsed:   13.2s finished\n",
      "C:\\Users\\laran\\Anaconda3\\lib\\site-packages\\lightgbm\\engine.py:118: UserWarning: Found `num_boost_round` in params. Will use it instead of argument\n",
      "  warnings.warn(\"Found `{}` in params. Will use it instead of argument\".format(alias))\n"
     ]
    },
    {
     "name": "stdout",
     "output_type": "stream",
     "text": [
      "2019-05-12 01:41:00\n"
     ]
    }
   ],
   "source": [
    "#Rodando GridSearch\n",
    "print(strftime('%Y-%m-%d %H:%M:%S', gmtime()))\n",
    "\n",
    "with parallel_backend('multiprocessing'):\n",
    "    gs.fit(Xtr, treino[y])\n",
    "\n",
    "joblib.dump(gs, pathaux + 'Modelo ' + nomemodelo + '.pkl')\n",
    "\n",
    "print(strftime('%Y-%m-%d %H:%M:%S', gmtime()))"
   ]
  },
  {
   "cell_type": "code",
   "execution_count": 9,
   "metadata": {},
   "outputs": [
    {
     "data": {
      "text/plain": [
       "0.7037090728864359"
      ]
     },
     "execution_count": 9,
     "metadata": {},
     "output_type": "execute_result"
    }
   ],
   "source": [
    "gs.best_score_"
   ]
  },
  {
   "cell_type": "code",
   "execution_count": 10,
   "metadata": {},
   "outputs": [
    {
     "data": {
      "text/plain": [
       "{'bagging_fraction': 0.7,\n",
       " 'boosting_type': 'gbdt',\n",
       " 'class_weight': None,\n",
       " 'feature_fraction': 0.7,\n",
       " 'learning_rate': 0.01,\n",
       " 'max_depth': 5,\n",
       " 'min_child_smaples': 20,\n",
       " 'min_data_leaf': 20,\n",
       " 'num_boost_round': 500,\n",
       " 'random_state': 123}"
      ]
     },
     "execution_count": 10,
     "metadata": {},
     "output_type": "execute_result"
    }
   ],
   "source": [
    "gs.best_params_"
   ]
  },
  {
   "cell_type": "code",
   "execution_count": 11,
   "metadata": {},
   "outputs": [
    {
     "name": "stderr",
     "output_type": "stream",
     "text": [
      "C:\\Users\\laran\\Anaconda3\\lib\\site-packages\\sklearn\\utils\\deprecation.py:125: FutureWarning: You are accessing a training score ('split0_train_score'), which will not be available by default any more in 0.21. If you need training scores, please set return_train_score=True\n",
      "  warnings.warn(*warn_args, **warn_kwargs)\n",
      "C:\\Users\\laran\\Anaconda3\\lib\\site-packages\\sklearn\\utils\\deprecation.py:125: FutureWarning: You are accessing a training score ('split1_train_score'), which will not be available by default any more in 0.21. If you need training scores, please set return_train_score=True\n",
      "  warnings.warn(*warn_args, **warn_kwargs)\n",
      "C:\\Users\\laran\\Anaconda3\\lib\\site-packages\\sklearn\\utils\\deprecation.py:125: FutureWarning: You are accessing a training score ('split2_train_score'), which will not be available by default any more in 0.21. If you need training scores, please set return_train_score=True\n",
      "  warnings.warn(*warn_args, **warn_kwargs)\n",
      "C:\\Users\\laran\\Anaconda3\\lib\\site-packages\\sklearn\\utils\\deprecation.py:125: FutureWarning: You are accessing a training score ('mean_train_score'), which will not be available by default any more in 0.21. If you need training scores, please set return_train_score=True\n",
      "  warnings.warn(*warn_args, **warn_kwargs)\n",
      "C:\\Users\\laran\\Anaconda3\\lib\\site-packages\\sklearn\\utils\\deprecation.py:125: FutureWarning: You are accessing a training score ('std_train_score'), which will not be available by default any more in 0.21. If you need training scores, please set return_train_score=True\n",
      "  warnings.warn(*warn_args, **warn_kwargs)\n"
     ]
    }
   ],
   "source": [
    "cvresults = pd.DataFrame(gs.cv_results_)[[\n",
    " 'mean_test_score',\n",
    " 'mean_train_score',\n",
    " 'param_max_depth',\n",
    " 'param_bagging_fraction',\n",
    " 'param_min_data_leaf',\n",
    " 'param_feature_fraction',\n",
    " 'param_boosting_type',\n",
    " 'param_num_boost_round',\n",
    " 'param_learning_rate',\n",
    " 'param_min_child_smaples',\n",
    " 'param_class_weight',\n",
    " 'std_test_score',\n",
    " 'std_train_score']]\n",
    "ha = list(cvresults)\n",
    "ha = [w.replace('param_', '') for w in ha]\n",
    "cvresults.columns = ha\n",
    "cvresults.to_excel(pathout + 'Modelo ' + nomemodelo + ' Resultados GridSearch.xlsx', encoding = 'latin1', index = False)"
   ]
  },
  {
   "cell_type": "code",
   "execution_count": 12,
   "metadata": {},
   "outputs": [
    {
     "data": {
      "text/html": [
       "<div>\n",
       "<style scoped>\n",
       "    .dataframe tbody tr th:only-of-type {\n",
       "        vertical-align: middle;\n",
       "    }\n",
       "\n",
       "    .dataframe tbody tr th {\n",
       "        vertical-align: top;\n",
       "    }\n",
       "\n",
       "    .dataframe thead th {\n",
       "        text-align: right;\n",
       "    }\n",
       "</style>\n",
       "<table border=\"1\" class=\"dataframe\">\n",
       "  <thead>\n",
       "    <tr style=\"text-align: right;\">\n",
       "      <th></th>\n",
       "      <th>mean_test_score</th>\n",
       "      <th>mean_train_score</th>\n",
       "      <th>max_depth</th>\n",
       "      <th>bagging_fraction</th>\n",
       "      <th>min_data_leaf</th>\n",
       "      <th>feature_fraction</th>\n",
       "      <th>boosting_type</th>\n",
       "      <th>num_boost_round</th>\n",
       "      <th>learning_rate</th>\n",
       "      <th>min_child_smaples</th>\n",
       "      <th>class_weight</th>\n",
       "      <th>std_test_score</th>\n",
       "      <th>std_train_score</th>\n",
       "    </tr>\n",
       "  </thead>\n",
       "  <tbody>\n",
       "    <tr>\n",
       "      <th>0</th>\n",
       "      <td>0.665104</td>\n",
       "      <td>0.791616</td>\n",
       "      <td>4</td>\n",
       "      <td>0.7</td>\n",
       "      <td>20</td>\n",
       "      <td>0.7</td>\n",
       "      <td>gbdt</td>\n",
       "      <td>300</td>\n",
       "      <td>0.01</td>\n",
       "      <td>20</td>\n",
       "      <td>balanced</td>\n",
       "      <td>0.009623</td>\n",
       "      <td>0.016967</td>\n",
       "    </tr>\n",
       "    <tr>\n",
       "      <th>1</th>\n",
       "      <td>0.687258</td>\n",
       "      <td>0.838268</td>\n",
       "      <td>4</td>\n",
       "      <td>0.7</td>\n",
       "      <td>20</td>\n",
       "      <td>0.7</td>\n",
       "      <td>gbdt</td>\n",
       "      <td>500</td>\n",
       "      <td>0.01</td>\n",
       "      <td>20</td>\n",
       "      <td>balanced</td>\n",
       "      <td>0.016595</td>\n",
       "      <td>0.004936</td>\n",
       "    </tr>\n",
       "    <tr>\n",
       "      <th>2</th>\n",
       "      <td>0.697053</td>\n",
       "      <td>0.865641</td>\n",
       "      <td>4</td>\n",
       "      <td>0.7</td>\n",
       "      <td>20</td>\n",
       "      <td>0.7</td>\n",
       "      <td>gbdt</td>\n",
       "      <td>700</td>\n",
       "      <td>0.01</td>\n",
       "      <td>20</td>\n",
       "      <td>balanced</td>\n",
       "      <td>0.021541</td>\n",
       "      <td>0.006530</td>\n",
       "    </tr>\n",
       "    <tr>\n",
       "      <th>3</th>\n",
       "      <td>0.673695</td>\n",
       "      <td>0.822748</td>\n",
       "      <td>5</td>\n",
       "      <td>0.7</td>\n",
       "      <td>20</td>\n",
       "      <td>0.7</td>\n",
       "      <td>gbdt</td>\n",
       "      <td>300</td>\n",
       "      <td>0.01</td>\n",
       "      <td>20</td>\n",
       "      <td>balanced</td>\n",
       "      <td>0.015081</td>\n",
       "      <td>0.018366</td>\n",
       "    </tr>\n",
       "    <tr>\n",
       "      <th>4</th>\n",
       "      <td>0.699821</td>\n",
       "      <td>0.866127</td>\n",
       "      <td>5</td>\n",
       "      <td>0.7</td>\n",
       "      <td>20</td>\n",
       "      <td>0.7</td>\n",
       "      <td>gbdt</td>\n",
       "      <td>500</td>\n",
       "      <td>0.01</td>\n",
       "      <td>20</td>\n",
       "      <td>balanced</td>\n",
       "      <td>0.016228</td>\n",
       "      <td>0.000694</td>\n",
       "    </tr>\n",
       "    <tr>\n",
       "      <th>5</th>\n",
       "      <td>0.702708</td>\n",
       "      <td>0.899119</td>\n",
       "      <td>5</td>\n",
       "      <td>0.7</td>\n",
       "      <td>20</td>\n",
       "      <td>0.7</td>\n",
       "      <td>gbdt</td>\n",
       "      <td>700</td>\n",
       "      <td>0.01</td>\n",
       "      <td>20</td>\n",
       "      <td>balanced</td>\n",
       "      <td>0.010361</td>\n",
       "      <td>0.009486</td>\n",
       "    </tr>\n",
       "    <tr>\n",
       "      <th>6</th>\n",
       "      <td>0.669963</td>\n",
       "      <td>0.791664</td>\n",
       "      <td>4</td>\n",
       "      <td>0.7</td>\n",
       "      <td>20</td>\n",
       "      <td>0.7</td>\n",
       "      <td>gbdt</td>\n",
       "      <td>300</td>\n",
       "      <td>0.01</td>\n",
       "      <td>20</td>\n",
       "      <td>None</td>\n",
       "      <td>0.003336</td>\n",
       "      <td>0.002636</td>\n",
       "    </tr>\n",
       "    <tr>\n",
       "      <th>7</th>\n",
       "      <td>0.697150</td>\n",
       "      <td>0.837987</td>\n",
       "      <td>4</td>\n",
       "      <td>0.7</td>\n",
       "      <td>20</td>\n",
       "      <td>0.7</td>\n",
       "      <td>gbdt</td>\n",
       "      <td>500</td>\n",
       "      <td>0.01</td>\n",
       "      <td>20</td>\n",
       "      <td>None</td>\n",
       "      <td>0.019199</td>\n",
       "      <td>0.013664</td>\n",
       "    </tr>\n",
       "    <tr>\n",
       "      <th>8</th>\n",
       "      <td>0.684990</td>\n",
       "      <td>0.864210</td>\n",
       "      <td>4</td>\n",
       "      <td>0.7</td>\n",
       "      <td>20</td>\n",
       "      <td>0.7</td>\n",
       "      <td>gbdt</td>\n",
       "      <td>700</td>\n",
       "      <td>0.01</td>\n",
       "      <td>20</td>\n",
       "      <td>None</td>\n",
       "      <td>0.027419</td>\n",
       "      <td>0.018628</td>\n",
       "    </tr>\n",
       "    <tr>\n",
       "      <th>9</th>\n",
       "      <td>0.687023</td>\n",
       "      <td>0.816500</td>\n",
       "      <td>5</td>\n",
       "      <td>0.7</td>\n",
       "      <td>20</td>\n",
       "      <td>0.7</td>\n",
       "      <td>gbdt</td>\n",
       "      <td>300</td>\n",
       "      <td>0.01</td>\n",
       "      <td>20</td>\n",
       "      <td>None</td>\n",
       "      <td>0.011972</td>\n",
       "      <td>0.013548</td>\n",
       "    </tr>\n",
       "    <tr>\n",
       "      <th>10</th>\n",
       "      <td>0.703709</td>\n",
       "      <td>0.860174</td>\n",
       "      <td>5</td>\n",
       "      <td>0.7</td>\n",
       "      <td>20</td>\n",
       "      <td>0.7</td>\n",
       "      <td>gbdt</td>\n",
       "      <td>500</td>\n",
       "      <td>0.01</td>\n",
       "      <td>20</td>\n",
       "      <td>None</td>\n",
       "      <td>0.028649</td>\n",
       "      <td>0.022285</td>\n",
       "    </tr>\n",
       "    <tr>\n",
       "      <th>11</th>\n",
       "      <td>0.701838</td>\n",
       "      <td>0.899472</td>\n",
       "      <td>5</td>\n",
       "      <td>0.7</td>\n",
       "      <td>20</td>\n",
       "      <td>0.7</td>\n",
       "      <td>gbdt</td>\n",
       "      <td>700</td>\n",
       "      <td>0.01</td>\n",
       "      <td>20</td>\n",
       "      <td>None</td>\n",
       "      <td>0.026615</td>\n",
       "      <td>0.011736</td>\n",
       "    </tr>\n",
       "  </tbody>\n",
       "</table>\n",
       "</div>"
      ],
      "text/plain": [
       "    mean_test_score  mean_train_score max_depth bagging_fraction  \\\n",
       "0          0.665104          0.791616         4              0.7   \n",
       "1          0.687258          0.838268         4              0.7   \n",
       "2          0.697053          0.865641         4              0.7   \n",
       "3          0.673695          0.822748         5              0.7   \n",
       "4          0.699821          0.866127         5              0.7   \n",
       "5          0.702708          0.899119         5              0.7   \n",
       "6          0.669963          0.791664         4              0.7   \n",
       "7          0.697150          0.837987         4              0.7   \n",
       "8          0.684990          0.864210         4              0.7   \n",
       "9          0.687023          0.816500         5              0.7   \n",
       "10         0.703709          0.860174         5              0.7   \n",
       "11         0.701838          0.899472         5              0.7   \n",
       "\n",
       "   min_data_leaf feature_fraction boosting_type num_boost_round learning_rate  \\\n",
       "0             20              0.7          gbdt             300          0.01   \n",
       "1             20              0.7          gbdt             500          0.01   \n",
       "2             20              0.7          gbdt             700          0.01   \n",
       "3             20              0.7          gbdt             300          0.01   \n",
       "4             20              0.7          gbdt             500          0.01   \n",
       "5             20              0.7          gbdt             700          0.01   \n",
       "6             20              0.7          gbdt             300          0.01   \n",
       "7             20              0.7          gbdt             500          0.01   \n",
       "8             20              0.7          gbdt             700          0.01   \n",
       "9             20              0.7          gbdt             300          0.01   \n",
       "10            20              0.7          gbdt             500          0.01   \n",
       "11            20              0.7          gbdt             700          0.01   \n",
       "\n",
       "   min_child_smaples class_weight  std_test_score  std_train_score  \n",
       "0                 20     balanced        0.009623         0.016967  \n",
       "1                 20     balanced        0.016595         0.004936  \n",
       "2                 20     balanced        0.021541         0.006530  \n",
       "3                 20     balanced        0.015081         0.018366  \n",
       "4                 20     balanced        0.016228         0.000694  \n",
       "5                 20     balanced        0.010361         0.009486  \n",
       "6                 20         None        0.003336         0.002636  \n",
       "7                 20         None        0.019199         0.013664  \n",
       "8                 20         None        0.027419         0.018628  \n",
       "9                 20         None        0.011972         0.013548  \n",
       "10                20         None        0.028649         0.022285  \n",
       "11                20         None        0.026615         0.011736  "
      ]
     },
     "execution_count": 12,
     "metadata": {},
     "output_type": "execute_result"
    }
   ],
   "source": [
    "cvresults"
   ]
  },
  {
   "cell_type": "markdown",
   "metadata": {},
   "source": [
    "## Variaveis Importantes"
   ]
  },
  {
   "cell_type": "code",
   "execution_count": 13,
   "metadata": {},
   "outputs": [],
   "source": [
    "def Feature_Importance(mod, nomemodelo, X, y):\n",
    "    many = ['Linear SVM', 'Logistica', 'Naive Bayes']\n",
    "\n",
    "    k = mod.best_estimator_\n",
    "    featurenames = list(X)\n",
    "    \n",
    "    if nomemodelo in many:\n",
    "        #Logistica, SVM, Naive Bayes\n",
    "        Features = pd.DataFrame(k.coef_.tolist())\n",
    "        Features.columns = featurenames\n",
    "        if len(y.unique()) > 2:\n",
    "            Features.index = sorted(y.unique())\n",
    "    else:\n",
    "        #Arvores\n",
    "        Features = pd.DataFrame({'features': featurenames, 'value': k.feature_importances_.tolist()})\n",
    "        \n",
    "    Features.to_excel(pathout + 'Features ' + nomemodelo + '.xlsx', encoding = 'latin1', index = True)\n",
    "    \n",
    "Feature_Importance(mod = gs, nomemodelo = nomemodelo, X = Xtr, y = treino[y])"
   ]
  },
  {
   "cell_type": "markdown",
   "metadata": {},
   "source": [
    "## Preditos"
   ]
  },
  {
   "cell_type": "code",
   "execution_count": 14,
   "metadata": {},
   "outputs": [],
   "source": [
    "predtr = gs.best_estimator_.predict(Xtr)\n",
    "predte = gs.best_estimator_.predict(Xte)"
   ]
  },
  {
   "cell_type": "code",
   "execution_count": 15,
   "metadata": {},
   "outputs": [
    {
     "name": "stderr",
     "output_type": "stream",
     "text": [
      "C:\\Users\\laran\\Anaconda3\\lib\\site-packages\\ipykernel_launcher.py:3: SettingWithCopyWarning: \n",
      "A value is trying to be set on a copy of a slice from a DataFrame.\n",
      "Try using .loc[row_indexer,col_indexer] = value instead\n",
      "\n",
      "See the caveats in the documentation: http://pandas.pydata.org/pandas-docs/stable/indexing.html#indexing-view-versus-copy\n",
      "  This is separate from the ipykernel package so we can avoid doing imports until\n",
      "C:\\Users\\laran\\Anaconda3\\lib\\site-packages\\ipykernel_launcher.py:5: SettingWithCopyWarning: \n",
      "A value is trying to be set on a copy of a slice from a DataFrame.\n",
      "Try using .loc[row_indexer,col_indexer] = value instead\n",
      "\n",
      "See the caveats in the documentation: http://pandas.pydata.org/pandas-docs/stable/indexing.html#indexing-view-versus-copy\n",
      "  \"\"\"\n",
      "C:\\Users\\laran\\Anaconda3\\lib\\site-packages\\ipykernel_launcher.py:12: SettingWithCopyWarning: \n",
      "A value is trying to be set on a copy of a slice from a DataFrame.\n",
      "Try using .loc[row_indexer,col_indexer] = value instead\n",
      "\n",
      "See the caveats in the documentation: http://pandas.pydata.org/pandas-docs/stable/indexing.html#indexing-view-versus-copy\n",
      "  if sys.path[0] == '':\n",
      "C:\\Users\\laran\\Anaconda3\\lib\\site-packages\\ipykernel_launcher.py:14: SettingWithCopyWarning: \n",
      "A value is trying to be set on a copy of a slice from a DataFrame.\n",
      "Try using .loc[row_indexer,col_indexer] = value instead\n",
      "\n",
      "See the caveats in the documentation: http://pandas.pydata.org/pandas-docs/stable/indexing.html#indexing-view-versus-copy\n",
      "  \n"
     ]
    }
   ],
   "source": [
    "name = 'Treino'\n",
    "fim = treino[[id, y]]\n",
    "fim['pred'] = predtr\n",
    "\n",
    "fim['Acertou'] = np.where(fim[y] == fim['pred'], 1, 0)\n",
    "fim.to_excel(pathout + 'Modelo ' + nomemodelo + ' Pred ' + name + '.xlsx', encoding = 'latin1', index = False)\n",
    "\n",
    "del fim\n",
    "\n",
    "name = 'Teste'\n",
    "fim = teste[[id, y]]\n",
    "fim['pred'] = predte\n",
    "\n",
    "fim['Acertou'] = np.where(fim[y] == fim['pred'], 1, 0)\n",
    "fim.to_excel(pathout + 'Modelo ' + nomemodelo + ' Pred ' + name + '.xlsx', encoding = 'latin1', index = False)"
   ]
  }
 ],
 "metadata": {
  "kernelspec": {
   "display_name": "Python 3",
   "language": "python",
   "name": "python3"
  },
  "language_info": {
   "codemirror_mode": {
    "name": "ipython",
    "version": 3
   },
   "file_extension": ".py",
   "mimetype": "text/x-python",
   "name": "python",
   "nbconvert_exporter": "python",
   "pygments_lexer": "ipython3",
   "version": "3.7.0"
  }
 },
 "nbformat": 4,
 "nbformat_minor": 2
}
