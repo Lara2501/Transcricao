{
 "cells": [
  {
   "cell_type": "markdown",
   "metadata": {},
   "source": [
    "# Modelo"
   ]
  },
  {
   "cell_type": "code",
   "execution_count": 1,
   "metadata": {},
   "outputs": [],
   "source": [
    "nomemodelo = 'Light GBM'"
   ]
  },
  {
   "cell_type": "markdown",
   "metadata": {},
   "source": [
    "## Caminhos"
   ]
  },
  {
   "cell_type": "code",
   "execution_count": 2,
   "metadata": {},
   "outputs": [],
   "source": [
    "import os\n",
    "\n",
    "#Folder Inicial\n",
    "path = os.getcwd()\n",
    "\n",
    "#Subpastas\n",
    "pathin = path + '\\\\Entrada\\\\'\n",
    "pathfixo = path + '\\\\Fixo\\\\'\n",
    "pathout = path + '\\\\Saida\\\\'\n",
    "pathparcial = path + '\\\\Parcial\\\\'\n",
    "pathaux = path + '\\\\Auxiliar\\\\'"
   ]
  },
  {
   "cell_type": "markdown",
   "metadata": {},
   "source": [
    "## Pacotes"
   ]
  },
  {
   "cell_type": "code",
   "execution_count": 3,
   "metadata": {},
   "outputs": [],
   "source": [
    "import dill\n",
    "import pickle\n",
    "import pandas as pd\n",
    "pd.set_option('max_colwidth', 3000)\n",
    "\n",
    "import numpy as np\n",
    "\n",
    "from time import gmtime, strftime\n",
    "\n",
    "from sklearn.linear_model import LogisticRegression\n",
    "from sklearn.svm import LinearSVC\n",
    "from sklearn.ensemble import RandomForestClassifier\n",
    "from sklearn.naive_bayes import MultinomialNB\n",
    "import lightgbm as lgb\n",
    "\n",
    "from sklearn.externals import joblib\n",
    "\n",
    "from sklearn.metrics import accuracy_score, recall_score, precision_score, f1_score, confusion_matrix\n",
    "from sklearn.pipeline import Pipeline\n",
    "from sklearn.compose import ColumnTransformer\n",
    "from sklearn.feature_extraction.text import TfidfVectorizer\n",
    "from sklearn.model_selection import GridSearchCV, RepeatedStratifiedKFold\n",
    "from sklearn.utils import parallel_backend"
   ]
  },
  {
   "cell_type": "code",
   "execution_count": 4,
   "metadata": {},
   "outputs": [
    {
     "name": "stdout",
     "output_type": "stream",
     "text": [
      "0.20.3\n"
     ]
    }
   ],
   "source": [
    "import sklearn\n",
    "print(sklearn.__version__)"
   ]
  },
  {
   "cell_type": "markdown",
   "metadata": {},
   "source": [
    "## Lendo Arquivos"
   ]
  },
  {
   "cell_type": "code",
   "execution_count": 5,
   "metadata": {},
   "outputs": [
    {
     "name": "stdout",
     "output_type": "stream",
     "text": [
      "(750, 58)\n",
      "(250, 58)\n"
     ]
    }
   ],
   "source": [
    "file = 'Treino'\n",
    "treino = pd.read_pickle(pathparcial + 'Arquivo0 ' + file + '.pkl')\n",
    "\n",
    "file = 'Teste'\n",
    "teste = pd.read_pickle(pathparcial + 'Arquivo0 ' + file + '.pkl')\n",
    "\n",
    "print(treino.shape)\n",
    "print(teste.shape)\n",
    "\n",
    "mod = joblib.load(pathaux + 'Modelo ' + nomemodelo + '.pkl')\n",
    "\n",
    "with open(pathaux + 'Variaveis Modelo ' + nomemodelo + '.pickle', 'rb') as f:\n",
    "    colunas = dill.load(f)\n",
    "    \n",
    "varx = list(colunas)[0]\n",
    "y = list(colunas)[1]"
   ]
  },
  {
   "cell_type": "markdown",
   "metadata": {},
   "source": [
    "## Variaveis Importantes"
   ]
  },
  {
   "cell_type": "code",
   "execution_count": 6,
   "metadata": {},
   "outputs": [],
   "source": [
    "def Feature_Importance(mod, nomemodelo, X, y):\n",
    "    many = ['Linear SVM', 'Logistica', 'Naive Bayes']\n",
    "\n",
    "    k = mod.best_estimator_\n",
    "    featurenames = list(X)\n",
    "    \n",
    "    if nomemodelo in many:\n",
    "        #Logistica, SVM, Naive Bayes\n",
    "        Features = pd.DataFrame(k.coef_.tolist())\n",
    "        Features.columns = featurenames\n",
    "        if len(y.unique()) > 2:\n",
    "            Features.index = sorted(y.unique())\n",
    "    else:\n",
    "        #Arvores\n",
    "        Features = pd.DataFrame({'features': featurenames, 'value': k.feature_importances_.tolist()})\n",
    "        \n",
    "    Features.to_excel(pathout + 'Features 2 ' + nomemodelo + '.xlsx', encoding = 'latin1', index = True)\n",
    "    \n",
    "Feature_Importance(mod = mod, nomemodelo = nomemodelo, X = treino[varx], y = treino[y])"
   ]
  },
  {
   "cell_type": "markdown",
   "metadata": {},
   "source": [
    "## Preditos"
   ]
  },
  {
   "cell_type": "code",
   "execution_count": 7,
   "metadata": {},
   "outputs": [
    {
     "name": "stdout",
     "output_type": "stream",
     "text": [
      "[0, 1]\n",
      "[0, 1]\n",
      "[0, 1]\n"
     ]
    }
   ],
   "source": [
    "#Predito\n",
    "treino['pred'] = mod.best_estimator_.predict(treino[varx])\n",
    "teste['pred'] = mod.best_estimator_.predict(teste[varx])\n",
    "\n",
    "#Treino\n",
    "predtreino = treino['pred'] #Predito\n",
    "ytreino = treino[y]         #Real\n",
    "\n",
    "#Teste\n",
    "predteste = teste['pred'] #Predito\n",
    "yteste = teste[y]         #Real\n",
    "\n",
    "#Label\n",
    "label = sorted(ytreino.unique())\n",
    "\n",
    "labeltreino = sorted(pd.Series(ytreino.unique().tolist() + predtreino.unique().tolist()).unique())\n",
    "labelteste = sorted(pd.Series(yteste.unique().tolist() + predteste.unique().tolist()).unique())\n",
    "\n",
    "print(label)\n",
    "print(labeltreino)\n",
    "print(labelteste)"
   ]
  },
  {
   "cell_type": "markdown",
   "metadata": {},
   "source": [
    "## Resultados"
   ]
  },
  {
   "cell_type": "code",
   "execution_count": 8,
   "metadata": {},
   "outputs": [],
   "source": [
    "def results(yreal, ypred, name, lab):\n",
    "    \n",
    "    ac = accuracy_score(y_true = yreal, y_pred = ypred).tolist()\n",
    "    #Comum\n",
    "    pr = precision_score(y_true = yreal, y_pred = ypred, average = None).tolist()\n",
    "    re = recall_score(y_true = yreal, y_pred = ypred, average = None).tolist()\n",
    "    f1 = f1_score(y_true = yreal, y_pred = ypred, average = None).tolist()\n",
    "    #Macro\n",
    "    prM = precision_score(y_true = yreal, y_pred = ypred, average = 'macro').tolist()\n",
    "    reM = recall_score(y_true = yreal, y_pred = ypred, average = 'macro').tolist()\n",
    "    f1M = f1_score(y_true = yreal, y_pred = ypred, average = 'macro').tolist()\n",
    "    #Weighted\n",
    "    prW = precision_score(y_true = yreal, y_pred = ypred, average = 'weighted').tolist()\n",
    "    reW = recall_score(y_true = yreal, y_pred = ypred, average = 'weighted').tolist()\n",
    "    f1W = f1_score(y_true = yreal, y_pred = ypred, average = 'weighted').tolist()\n",
    "\n",
    "    results = pd.DataFrame({\n",
    "        'Accuracy ' + name: ac,\n",
    "        'Precision ' + name: pr, 'Recall ' + name: re, 'F1 ' + name: f1, \n",
    "        'Precision Macro ' + name: pr, 'Recall Macro ' + name: re, 'F1 Macro ' + name: f1, \n",
    "        'Precision Weighted ' + name: pr, 'Recall Weighted ' + name: re, 'F1 Weighted ' + name: f1, \n",
    "    })\n",
    "\n",
    "    results['label'] = lab\n",
    "    \n",
    "    return results\n",
    "\n",
    "#Treino\n",
    "results_treino = results(yreal = ytreino, ypred = predtreino, name = 'Treino', lab = labeltreino)\n",
    "#Teste\n",
    "results_teste = results(yreal = yteste, ypred = predteste, name = 'Teste', lab = labeltreino)"
   ]
  },
  {
   "cell_type": "markdown",
   "metadata": {},
   "source": [
    "### Juntando Resultados de Treino e Teste"
   ]
  },
  {
   "cell_type": "code",
   "execution_count": 9,
   "metadata": {},
   "outputs": [],
   "source": [
    "results = results_treino.merge(results_teste, left_on = results_treino['label'], right_on = results_teste['label'])\n",
    "results = results.drop(['label_x', 'label_y'], axis = 1)\n",
    "results.rename(columns = {'key_0': 'label'}, inplace = True)\n",
    "results = results.T\n",
    "results.to_excel(pathout + 'Resultados Treino Teste ' + nomemodelo + '.xlsx', encoding = 'latin1', index = True)\n",
    "#results"
   ]
  },
  {
   "cell_type": "markdown",
   "metadata": {},
   "source": [
    "## Matriz de Confusao"
   ]
  },
  {
   "cell_type": "code",
   "execution_count": 10,
   "metadata": {},
   "outputs": [
    {
     "name": "stderr",
     "output_type": "stream",
     "text": [
      "C:\\Users\\laran\\Anaconda3\\lib\\site-packages\\pandas\\core\\indexes\\api.py:107: RuntimeWarning: '<' not supported between instances of 'str' and 'int', sort order is undefined for incomparable objects\n",
      "  result = result.union(other)\n",
      "C:\\Users\\laran\\Anaconda3\\lib\\site-packages\\pandas\\core\\indexes\\base.py:3772: RuntimeWarning: '<' not supported between instances of 'str' and 'int', sort order is undefined for incomparable objects\n",
      "  return this.join(other, how=how, return_indexers=return_indexers)\n"
     ]
    }
   ],
   "source": [
    "def matrizdeconfusao(yreal, ypred, label, name):\n",
    "    \n",
    "    #Precision\n",
    "    pr = precision_score(y_true = yreal, y_pred = ypred, average = None).tolist()\n",
    "    #Recall\n",
    "    re = recall_score(y_true = yreal, y_pred = ypred, average = None).tolist()\n",
    " \n",
    "    #Matriz de Confusao\n",
    "    cm = confusion_matrix(y_true = yreal, y_pred = ypred, sample_weight = None)\n",
    "    \n",
    "    #DataFrame\n",
    "    cm = pd.DataFrame(data = cm, index = label, columns = label)\n",
    "    \n",
    "    #Zero para NA\n",
    "    cm = cm.replace(0, np.nan)\n",
    "    \n",
    "    #Classses\n",
    "    names = list(cm)\n",
    "    \n",
    "    #Somando para ter TOTAL POR CLASSE\n",
    "    cm['NReal'] = cm.sum(axis = 1)\n",
    "    \n",
    "    #Calculando a soma das colunas = TOTAL PREDITO POR CLASSE\n",
    "    pp = pd.DataFrame(cm.sum(axis = 0)).transpose()\n",
    "    pp.index = ['NPred']\n",
    "    \n",
    "    #Adicionando linha com a soma das colunas = TOTAL PREDITO POR CLASSE\n",
    "    cm = cm.append(pp)\n",
    "    \n",
    "    #Linha de PRECISION\n",
    "    pp = pd.DataFrame(pr).transpose()\n",
    "    pp.index = ['Precision']\n",
    "    pp.columns = names\n",
    "    \n",
    "    cm = cm.append(pp, sort = False)\n",
    "    \n",
    "    #Coluna de Recall\n",
    "    pp = pd.DataFrame(re)\n",
    "    pp.columns = ['Recall']\n",
    "    pp.index = names\n",
    "    \n",
    "    cm = pd.merge(cm, pp, how = 'outer', left_index = True, right_index = True)\n",
    "    \n",
    "    cm.to_excel(pathout + 'Resultados MC ' + nomemodelo + ' ' + name + '.xlsx', encoding = 'latin1', index = True)\n",
    "    \n",
    "    return cm\n",
    "\n",
    "cmtr = matrizdeconfusao(yreal = ytreino, ypred = predtreino, label = labeltreino, name = 'Treino')\n",
    "cmte = matrizdeconfusao(yreal = yteste, ypred = predteste, label = labelteste, name = 'Teste')"
   ]
  },
  {
   "cell_type": "code",
   "execution_count": 11,
   "metadata": {},
   "outputs": [
    {
     "data": {
      "text/html": [
       "<div>\n",
       "<style scoped>\n",
       "    .dataframe tbody tr th:only-of-type {\n",
       "        vertical-align: middle;\n",
       "    }\n",
       "\n",
       "    .dataframe tbody tr th {\n",
       "        vertical-align: top;\n",
       "    }\n",
       "\n",
       "    .dataframe thead th {\n",
       "        text-align: right;\n",
       "    }\n",
       "</style>\n",
       "<table border=\"1\" class=\"dataframe\">\n",
       "  <thead>\n",
       "    <tr style=\"text-align: right;\">\n",
       "      <th></th>\n",
       "      <th>0</th>\n",
       "      <th>1</th>\n",
       "      <th>NReal</th>\n",
       "      <th>Recall</th>\n",
       "    </tr>\n",
       "  </thead>\n",
       "  <tbody>\n",
       "    <tr>\n",
       "      <th>0</th>\n",
       "      <td>502.000000</td>\n",
       "      <td>23.000000</td>\n",
       "      <td>525.0</td>\n",
       "      <td>0.956190</td>\n",
       "    </tr>\n",
       "    <tr>\n",
       "      <th>1</th>\n",
       "      <td>71.000000</td>\n",
       "      <td>154.000000</td>\n",
       "      <td>225.0</td>\n",
       "      <td>0.684444</td>\n",
       "    </tr>\n",
       "    <tr>\n",
       "      <th>NPred</th>\n",
       "      <td>573.000000</td>\n",
       "      <td>177.000000</td>\n",
       "      <td>750.0</td>\n",
       "      <td>NaN</td>\n",
       "    </tr>\n",
       "    <tr>\n",
       "      <th>Precision</th>\n",
       "      <td>0.876091</td>\n",
       "      <td>0.870056</td>\n",
       "      <td>NaN</td>\n",
       "      <td>NaN</td>\n",
       "    </tr>\n",
       "  </tbody>\n",
       "</table>\n",
       "</div>"
      ],
      "text/plain": [
       "                    0           1  NReal    Recall\n",
       "0          502.000000   23.000000  525.0  0.956190\n",
       "1           71.000000  154.000000  225.0  0.684444\n",
       "NPred      573.000000  177.000000  750.0       NaN\n",
       "Precision    0.876091    0.870056    NaN       NaN"
      ]
     },
     "execution_count": 11,
     "metadata": {},
     "output_type": "execute_result"
    }
   ],
   "source": [
    "cmtr"
   ]
  },
  {
   "cell_type": "code",
   "execution_count": 12,
   "metadata": {},
   "outputs": [
    {
     "data": {
      "text/html": [
       "<div>\n",
       "<style scoped>\n",
       "    .dataframe tbody tr th:only-of-type {\n",
       "        vertical-align: middle;\n",
       "    }\n",
       "\n",
       "    .dataframe tbody tr th {\n",
       "        vertical-align: top;\n",
       "    }\n",
       "\n",
       "    .dataframe thead th {\n",
       "        text-align: right;\n",
       "    }\n",
       "</style>\n",
       "<table border=\"1\" class=\"dataframe\">\n",
       "  <thead>\n",
       "    <tr style=\"text-align: right;\">\n",
       "      <th></th>\n",
       "      <th>0</th>\n",
       "      <th>1</th>\n",
       "      <th>NReal</th>\n",
       "      <th>Recall</th>\n",
       "    </tr>\n",
       "  </thead>\n",
       "  <tbody>\n",
       "    <tr>\n",
       "      <th>0</th>\n",
       "      <td>157.000000</td>\n",
       "      <td>18.000000</td>\n",
       "      <td>175.0</td>\n",
       "      <td>0.897143</td>\n",
       "    </tr>\n",
       "    <tr>\n",
       "      <th>1</th>\n",
       "      <td>44.000000</td>\n",
       "      <td>31.000000</td>\n",
       "      <td>75.0</td>\n",
       "      <td>0.413333</td>\n",
       "    </tr>\n",
       "    <tr>\n",
       "      <th>NPred</th>\n",
       "      <td>201.000000</td>\n",
       "      <td>49.000000</td>\n",
       "      <td>250.0</td>\n",
       "      <td>NaN</td>\n",
       "    </tr>\n",
       "    <tr>\n",
       "      <th>Precision</th>\n",
       "      <td>0.781095</td>\n",
       "      <td>0.632653</td>\n",
       "      <td>NaN</td>\n",
       "      <td>NaN</td>\n",
       "    </tr>\n",
       "  </tbody>\n",
       "</table>\n",
       "</div>"
      ],
      "text/plain": [
       "                    0          1  NReal    Recall\n",
       "0          157.000000  18.000000  175.0  0.897143\n",
       "1           44.000000  31.000000   75.0  0.413333\n",
       "NPred      201.000000  49.000000  250.0       NaN\n",
       "Precision    0.781095   0.632653    NaN       NaN"
      ]
     },
     "execution_count": 12,
     "metadata": {},
     "output_type": "execute_result"
    }
   ],
   "source": [
    "cmte"
   ]
  }
 ],
 "metadata": {
  "kernelspec": {
   "display_name": "Python 3",
   "language": "python",
   "name": "python3"
  },
  "language_info": {
   "codemirror_mode": {
    "name": "ipython",
    "version": 3
   },
   "file_extension": ".py",
   "mimetype": "text/x-python",
   "name": "python",
   "nbconvert_exporter": "python",
   "pygments_lexer": "ipython3",
   "version": "3.7.0"
  }
 },
 "nbformat": 4,
 "nbformat_minor": 2
}
